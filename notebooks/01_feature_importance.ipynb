{
 "cells": [
  {
   "cell_type": "markdown",
   "metadata": {},
   "source": [
    "# 1. Info\n",
    "\n",
    "This notebooks contains the feature importance analysis for the hotel cancelation dataset.\n",
    "\n",
    "Before runing this notebook you should have run the \"01_data_preparation.ipynb\" notebook."
   ]
  },
  {
   "cell_type": "markdown",
   "metadata": {},
   "source": [
    "# 2. Feature importance analysis."
   ]
  },
  {
   "cell_type": "markdown",
   "metadata": {},
   "source": [
    "## 2.1. Import Libraries"
   ]
  },
  {
   "cell_type": "code",
   "execution_count": 2,
   "metadata": {},
   "outputs": [],
   "source": [
    "import pandas as pd\n",
    "from sklearn.model_selection import train_test_split\n",
    "from sklearn.metrics import mutual_info_score\n",
    "from IPython.display import display"
   ]
  },
  {
   "cell_type": "markdown",
   "metadata": {},
   "source": [
    "## 2.2. Read the data"
   ]
  },
  {
   "cell_type": "code",
   "execution_count": 3,
   "metadata": {},
   "outputs": [],
   "source": [
    "data = pd.read_csv('../data/Hotel_Cancelations.csv')"
   ]
  },
  {
   "cell_type": "code",
   "execution_count": 4,
   "metadata": {},
   "outputs": [],
   "source": [
    "data.drop(columns=['Booking_ID'], axis=1, inplace=True)"
   ]
  },
  {
   "cell_type": "markdown",
   "metadata": {},
   "source": [
    "## 2.3. Setting up the validation framework"
   ]
  },
  {
   "cell_type": "code",
   "execution_count": 5,
   "metadata": {},
   "outputs": [],
   "source": [
    "categorical_variables = ['type_of_meal_plan','room_type_reserved','market_segment_type']\n",
    "numerical_variables = ['no_of_adults','no_of_children','no_of_weekend_nights','no_of_week_nights','required_car_parking_space','lead_time','arrival_year','arrival_month','arrival_date','repeated_guest',\n",
    "'no_of_previous_cancellations','no_of_previous_bookings_not_canceled','avg_price_per_room','no_of_special_requests']\n",
    "target_variable = ['booking_status']\n"
   ]
  },
  {
   "cell_type": "code",
   "execution_count": 8,
   "metadata": {},
   "outputs": [
    {
     "name": "stdout",
     "output_type": "stream",
     "text": [
      "21765\n",
      "7255\n",
      "7255\n"
     ]
    }
   ],
   "source": [
    "df_full_train, df_test = train_test_split(data, test_size=0.2, random_state=1)\n",
    "df_train, df_val = train_test_split(df_full_train, test_size=0.25, random_state=1)\n",
    "\n",
    "print(len(df_train))\n",
    "print(len(df_test))\n",
    "print(len(df_val))\n",
    "\n",
    "df_train = df_train.reset_index(drop=True)\n",
    "df_val = df_val.reset_index(drop=True)\n",
    "df_test = df_test.reset_index(drop=True)\n",
    "\n",
    "y_train = df_train.booking_status.values\n",
    "y_val = df_val.booking_status.values\n",
    "y_test = df_test.booking_status.values\n",
    "\n",
    "del df_train['booking_status']\n",
    "del df_val['booking_status']\n",
    "del df_test['booking_status']"
   ]
  },
  {
   "cell_type": "markdown",
   "metadata": {},
   "source": [
    "## 2.4 difference and risk ratio"
   ]
  },
  {
   "cell_type": "code",
   "execution_count": 9,
   "metadata": {},
   "outputs": [],
   "source": [
    "global_cancelation = data.booking_status.mean()"
   ]
  },
  {
   "cell_type": "code",
   "execution_count": 11,
   "metadata": {},
   "outputs": [
    {
     "name": "stdout",
     "output_type": "stream",
     "text": [
      "type_of_meal_plan\n"
     ]
    },
    {
     "data": {
      "text/html": [
       "<div>\n",
       "<style scoped>\n",
       "    .dataframe tbody tr th:only-of-type {\n",
       "        vertical-align: middle;\n",
       "    }\n",
       "\n",
       "    .dataframe tbody tr th {\n",
       "        vertical-align: top;\n",
       "    }\n",
       "\n",
       "    .dataframe thead th {\n",
       "        text-align: right;\n",
       "    }\n",
       "</style>\n",
       "<table border=\"1\" class=\"dataframe\">\n",
       "  <thead>\n",
       "    <tr style=\"text-align: right;\">\n",
       "      <th></th>\n",
       "      <th>mean</th>\n",
       "      <th>count</th>\n",
       "      <th>diff</th>\n",
       "      <th>risk_ratio</th>\n",
       "    </tr>\n",
       "    <tr>\n",
       "      <th>type_of_meal_plan</th>\n",
       "      <th></th>\n",
       "      <th></th>\n",
       "      <th></th>\n",
       "      <th></th>\n",
       "    </tr>\n",
       "  </thead>\n",
       "  <tbody>\n",
       "    <tr>\n",
       "      <th>0</th>\n",
       "      <td>0.311802</td>\n",
       "      <td>27835</td>\n",
       "      <td>-0.015834</td>\n",
       "      <td>0.951671</td>\n",
       "    </tr>\n",
       "    <tr>\n",
       "      <th>1</th>\n",
       "      <td>0.331189</td>\n",
       "      <td>5130</td>\n",
       "      <td>0.003553</td>\n",
       "      <td>1.010844</td>\n",
       "    </tr>\n",
       "    <tr>\n",
       "      <th>2</th>\n",
       "      <td>0.455673</td>\n",
       "      <td>3305</td>\n",
       "      <td>0.128037</td>\n",
       "      <td>1.390791</td>\n",
       "    </tr>\n",
       "    <tr>\n",
       "      <th>3</th>\n",
       "      <td>0.200000</td>\n",
       "      <td>5</td>\n",
       "      <td>-0.127636</td>\n",
       "      <td>0.610433</td>\n",
       "    </tr>\n",
       "  </tbody>\n",
       "</table>\n",
       "</div>"
      ],
      "text/plain": [
       "                       mean  count      diff  risk_ratio\n",
       "type_of_meal_plan                                       \n",
       "0                  0.311802  27835 -0.015834    0.951671\n",
       "1                  0.331189   5130  0.003553    1.010844\n",
       "2                  0.455673   3305  0.128037    1.390791\n",
       "3                  0.200000      5 -0.127636    0.610433"
      ]
     },
     "metadata": {},
     "output_type": "display_data"
    },
    {
     "name": "stdout",
     "output_type": "stream",
     "text": [
      "\n",
      "\n",
      "room_type_reserved\n"
     ]
    },
    {
     "data": {
      "text/html": [
       "<div>\n",
       "<style scoped>\n",
       "    .dataframe tbody tr th:only-of-type {\n",
       "        vertical-align: middle;\n",
       "    }\n",
       "\n",
       "    .dataframe tbody tr th {\n",
       "        vertical-align: top;\n",
       "    }\n",
       "\n",
       "    .dataframe thead th {\n",
       "        text-align: right;\n",
       "    }\n",
       "</style>\n",
       "<table border=\"1\" class=\"dataframe\">\n",
       "  <thead>\n",
       "    <tr style=\"text-align: right;\">\n",
       "      <th></th>\n",
       "      <th>mean</th>\n",
       "      <th>count</th>\n",
       "      <th>diff</th>\n",
       "      <th>risk_ratio</th>\n",
       "    </tr>\n",
       "    <tr>\n",
       "      <th>room_type_reserved</th>\n",
       "      <th></th>\n",
       "      <th></th>\n",
       "      <th></th>\n",
       "      <th></th>\n",
       "    </tr>\n",
       "  </thead>\n",
       "  <tbody>\n",
       "    <tr>\n",
       "      <th>0</th>\n",
       "      <td>0.322503</td>\n",
       "      <td>28130</td>\n",
       "      <td>-0.005133</td>\n",
       "      <td>0.984332</td>\n",
       "    </tr>\n",
       "    <tr>\n",
       "      <th>1</th>\n",
       "      <td>0.341588</td>\n",
       "      <td>6057</td>\n",
       "      <td>0.013952</td>\n",
       "      <td>1.042584</td>\n",
       "    </tr>\n",
       "    <tr>\n",
       "      <th>2</th>\n",
       "      <td>0.329480</td>\n",
       "      <td>692</td>\n",
       "      <td>0.001844</td>\n",
       "      <td>1.005627</td>\n",
       "    </tr>\n",
       "    <tr>\n",
       "      <th>3</th>\n",
       "      <td>0.420290</td>\n",
       "      <td>966</td>\n",
       "      <td>0.092654</td>\n",
       "      <td>1.282795</td>\n",
       "    </tr>\n",
       "    <tr>\n",
       "      <th>4</th>\n",
       "      <td>0.271698</td>\n",
       "      <td>265</td>\n",
       "      <td>-0.055938</td>\n",
       "      <td>0.829268</td>\n",
       "    </tr>\n",
       "    <tr>\n",
       "      <th>5</th>\n",
       "      <td>0.227848</td>\n",
       "      <td>158</td>\n",
       "      <td>-0.099788</td>\n",
       "      <td>0.695430</td>\n",
       "    </tr>\n",
       "    <tr>\n",
       "      <th>6</th>\n",
       "      <td>0.285714</td>\n",
       "      <td>7</td>\n",
       "      <td>-0.041922</td>\n",
       "      <td>0.872048</td>\n",
       "    </tr>\n",
       "  </tbody>\n",
       "</table>\n",
       "</div>"
      ],
      "text/plain": [
       "                        mean  count      diff  risk_ratio\n",
       "room_type_reserved                                       \n",
       "0                   0.322503  28130 -0.005133    0.984332\n",
       "1                   0.341588   6057  0.013952    1.042584\n",
       "2                   0.329480    692  0.001844    1.005627\n",
       "3                   0.420290    966  0.092654    1.282795\n",
       "4                   0.271698    265 -0.055938    0.829268\n",
       "5                   0.227848    158 -0.099788    0.695430\n",
       "6                   0.285714      7 -0.041922    0.872048"
      ]
     },
     "metadata": {},
     "output_type": "display_data"
    },
    {
     "name": "stdout",
     "output_type": "stream",
     "text": [
      "\n",
      "\n",
      "market_segment_type\n"
     ]
    },
    {
     "data": {
      "text/html": [
       "<div>\n",
       "<style scoped>\n",
       "    .dataframe tbody tr th:only-of-type {\n",
       "        vertical-align: middle;\n",
       "    }\n",
       "\n",
       "    .dataframe tbody tr th {\n",
       "        vertical-align: top;\n",
       "    }\n",
       "\n",
       "    .dataframe thead th {\n",
       "        text-align: right;\n",
       "    }\n",
       "</style>\n",
       "<table border=\"1\" class=\"dataframe\">\n",
       "  <thead>\n",
       "    <tr style=\"text-align: right;\">\n",
       "      <th></th>\n",
       "      <th>mean</th>\n",
       "      <th>count</th>\n",
       "      <th>diff</th>\n",
       "      <th>risk_ratio</th>\n",
       "    </tr>\n",
       "    <tr>\n",
       "      <th>market_segment_type</th>\n",
       "      <th></th>\n",
       "      <th></th>\n",
       "      <th></th>\n",
       "      <th></th>\n",
       "    </tr>\n",
       "  </thead>\n",
       "  <tbody>\n",
       "    <tr>\n",
       "      <th>0</th>\n",
       "      <td>0.299487</td>\n",
       "      <td>10528</td>\n",
       "      <td>-0.028149</td>\n",
       "      <td>0.914084</td>\n",
       "    </tr>\n",
       "    <tr>\n",
       "      <th>1</th>\n",
       "      <td>0.365081</td>\n",
       "      <td>23214</td>\n",
       "      <td>0.037445</td>\n",
       "      <td>1.114289</td>\n",
       "    </tr>\n",
       "    <tr>\n",
       "      <th>2</th>\n",
       "      <td>0.109073</td>\n",
       "      <td>2017</td>\n",
       "      <td>-0.218563</td>\n",
       "      <td>0.332909</td>\n",
       "    </tr>\n",
       "    <tr>\n",
       "      <th>3</th>\n",
       "      <td>0.296000</td>\n",
       "      <td>125</td>\n",
       "      <td>-0.031636</td>\n",
       "      <td>0.903441</td>\n",
       "    </tr>\n",
       "    <tr>\n",
       "      <th>4</th>\n",
       "      <td>0.000000</td>\n",
       "      <td>391</td>\n",
       "      <td>-0.327636</td>\n",
       "      <td>0.000000</td>\n",
       "    </tr>\n",
       "  </tbody>\n",
       "</table>\n",
       "</div>"
      ],
      "text/plain": [
       "                         mean  count      diff  risk_ratio\n",
       "market_segment_type                                       \n",
       "0                    0.299487  10528 -0.028149    0.914084\n",
       "1                    0.365081  23214  0.037445    1.114289\n",
       "2                    0.109073   2017 -0.218563    0.332909\n",
       "3                    0.296000    125 -0.031636    0.903441\n",
       "4                    0.000000    391 -0.327636    0.000000"
      ]
     },
     "metadata": {},
     "output_type": "display_data"
    },
    {
     "name": "stdout",
     "output_type": "stream",
     "text": [
      "\n",
      "\n"
     ]
    }
   ],
   "source": [
    "for cat in categorical_variables:\n",
    "    print(cat)\n",
    "    df_group = data.groupby(cat).booking_status.agg(['mean', 'count'])\n",
    "    df_group['diff'] = df_group['mean'] - global_cancelation\n",
    "    df_group['risk_ratio'] = df_group['mean'] / global_cancelation\n",
    "    display(df_group)\n",
    "    print()\n",
    "    print()"
   ]
  },
  {
   "cell_type": "markdown",
   "metadata": {},
   "source": [
    "## 2.5. Mutual information (Categorical variables)"
   ]
  },
  {
   "cell_type": "code",
   "execution_count": 12,
   "metadata": {},
   "outputs": [],
   "source": [
    "def mutual_info_cancelation_score(series):\n",
    "    return mutual_info_score(series, df_full_train.booking_status)"
   ]
  },
  {
   "cell_type": "code",
   "execution_count": 13,
   "metadata": {},
   "outputs": [
    {
     "data": {
      "text/plain": [
       "market_segment_type    0.013890\n",
       "type_of_meal_plan      0.003861\n",
       "room_type_reserved     0.000769\n",
       "dtype: float64"
      ]
     },
     "execution_count": 13,
     "metadata": {},
     "output_type": "execute_result"
    }
   ],
   "source": [
    "mi = df_full_train[categorical_variables].apply(mutual_info_cancelation_score)\n",
    "mi.sort_values(ascending=False)"
   ]
  },
  {
   "cell_type": "markdown",
   "metadata": {},
   "source": [
    "The only categorical feature that will be considered for the model selection is the market_segment_type."
   ]
  },
  {
   "cell_type": "markdown",
   "metadata": {},
   "source": [
    "## 2.6 Correlation (Numerical variables)"
   ]
  },
  {
   "cell_type": "code",
   "execution_count": 14,
   "metadata": {},
   "outputs": [
    {
     "data": {
      "text/html": [
       "<div>\n",
       "<style scoped>\n",
       "    .dataframe tbody tr th:only-of-type {\n",
       "        vertical-align: middle;\n",
       "    }\n",
       "\n",
       "    .dataframe tbody tr th {\n",
       "        vertical-align: top;\n",
       "    }\n",
       "\n",
       "    .dataframe thead th {\n",
       "        text-align: right;\n",
       "    }\n",
       "</style>\n",
       "<table border=\"1\" class=\"dataframe\">\n",
       "  <thead>\n",
       "    <tr style=\"text-align: right;\">\n",
       "      <th></th>\n",
       "      <th>features</th>\n",
       "      <th>corr</th>\n",
       "    </tr>\n",
       "  </thead>\n",
       "  <tbody>\n",
       "    <tr>\n",
       "      <th>5</th>\n",
       "      <td>lead_time</td>\n",
       "      <td>0.438241</td>\n",
       "    </tr>\n",
       "    <tr>\n",
       "      <th>13</th>\n",
       "      <td>no_of_special_requests</td>\n",
       "      <td>0.251734</td>\n",
       "    </tr>\n",
       "    <tr>\n",
       "      <th>6</th>\n",
       "      <td>arrival_year</td>\n",
       "      <td>0.180817</td>\n",
       "    </tr>\n",
       "    <tr>\n",
       "      <th>12</th>\n",
       "      <td>avg_price_per_room</td>\n",
       "      <td>0.146501</td>\n",
       "    </tr>\n",
       "    <tr>\n",
       "      <th>9</th>\n",
       "      <td>repeated_guest</td>\n",
       "      <td>0.107673</td>\n",
       "    </tr>\n",
       "    <tr>\n",
       "      <th>0</th>\n",
       "      <td>no_of_adults</td>\n",
       "      <td>0.091589</td>\n",
       "    </tr>\n",
       "    <tr>\n",
       "      <th>3</th>\n",
       "      <td>no_of_week_nights</td>\n",
       "      <td>0.091316</td>\n",
       "    </tr>\n",
       "    <tr>\n",
       "      <th>4</th>\n",
       "      <td>required_car_parking_space</td>\n",
       "      <td>0.088054</td>\n",
       "    </tr>\n",
       "    <tr>\n",
       "      <th>2</th>\n",
       "      <td>no_of_weekend_nights</td>\n",
       "      <td>0.062028</td>\n",
       "    </tr>\n",
       "    <tr>\n",
       "      <th>11</th>\n",
       "      <td>no_of_previous_bookings_not_canceled</td>\n",
       "      <td>0.060505</td>\n",
       "    </tr>\n",
       "    <tr>\n",
       "      <th>1</th>\n",
       "      <td>no_of_children</td>\n",
       "      <td>0.036285</td>\n",
       "    </tr>\n",
       "    <tr>\n",
       "      <th>10</th>\n",
       "      <td>no_of_previous_cancellations</td>\n",
       "      <td>0.035677</td>\n",
       "    </tr>\n",
       "    <tr>\n",
       "      <th>8</th>\n",
       "      <td>arrival_date</td>\n",
       "      <td>0.010983</td>\n",
       "    </tr>\n",
       "    <tr>\n",
       "      <th>7</th>\n",
       "      <td>arrival_month</td>\n",
       "      <td>0.010677</td>\n",
       "    </tr>\n",
       "  </tbody>\n",
       "</table>\n",
       "</div>"
      ],
      "text/plain": [
       "                                features      corr\n",
       "5                              lead_time  0.438241\n",
       "13                no_of_special_requests  0.251734\n",
       "6                           arrival_year  0.180817\n",
       "12                    avg_price_per_room  0.146501\n",
       "9                         repeated_guest  0.107673\n",
       "0                           no_of_adults  0.091589\n",
       "3                      no_of_week_nights  0.091316\n",
       "4             required_car_parking_space  0.088054\n",
       "2                   no_of_weekend_nights  0.062028\n",
       "11  no_of_previous_bookings_not_canceled  0.060505\n",
       "1                         no_of_children  0.036285\n",
       "10          no_of_previous_cancellations  0.035677\n",
       "8                           arrival_date  0.010983\n",
       "7                          arrival_month  0.010677"
      ]
     },
     "execution_count": 14,
     "metadata": {},
     "output_type": "execute_result"
    }
   ],
   "source": [
    "numerical_corr = df_full_train[numerical_variables].corrwith(df_full_train.booking_status).abs().reset_index()\n",
    "numerical_corr.columns = ['features','corr']\n",
    "numerical_corr.sort_values(by=['corr'], ascending=False)"
   ]
  },
  {
   "cell_type": "code",
   "execution_count": 15,
   "metadata": {},
   "outputs": [
    {
     "data": {
      "text/plain": [
       "array(['lead_time', 'arrival_year', 'avg_price_per_room',\n",
       "       'no_of_special_requests'], dtype=object)"
      ]
     },
     "execution_count": 15,
     "metadata": {},
     "output_type": "execute_result"
    }
   ],
   "source": [
    "numerical_corr.query(f\"corr > {numerical_corr['corr'].mean()}\")['features'].values"
   ]
  },
  {
   "cell_type": "markdown",
   "metadata": {},
   "source": [
    "lead_time, arrival_year, avg_price_per_room, and no_of_special_requests are the numerical features that will be considered for the model selection."
   ]
  },
  {
   "cell_type": "markdown",
   "metadata": {},
   "source": [
    "End of notebook."
   ]
  }
 ],
 "metadata": {
  "kernelspec": {
   "display_name": "Python 3",
   "language": "python",
   "name": "python3"
  },
  "language_info": {
   "codemirror_mode": {
    "name": "ipython",
    "version": 3
   },
   "file_extension": ".py",
   "mimetype": "text/x-python",
   "name": "python",
   "nbconvert_exporter": "python",
   "pygments_lexer": "ipython3",
   "version": "3.11.6"
  }
 },
 "nbformat": 4,
 "nbformat_minor": 2
}
