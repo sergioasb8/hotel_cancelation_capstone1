{
 "cells": [
  {
   "cell_type": "markdown",
   "metadata": {},
   "source": [
    "# 1. Info\n",
    "\n",
    "Notebook to train the model.\n",
    "\n",
    "Before running this model run the notebook \"00_eda.ipynb\" and to have a better understanding of the model parameters read the notebook \"model_selection.ipynb\"."
   ]
  },
  {
   "cell_type": "markdown",
   "metadata": {},
   "source": [
    "# 2. Saving the model"
   ]
  },
  {
   "cell_type": "code",
   "execution_count": 1,
   "metadata": {},
   "outputs": [],
   "source": [
    "# import libraries\n",
    "import pandas as pd\n",
    "import xgboost as xgb\n",
    "from sklearn.feature_extraction import DictVectorizer\n",
    "import pickle"
   ]
  },
  {
   "cell_type": "code",
   "execution_count": 3,
   "metadata": {},
   "outputs": [],
   "source": [
    "# read and prepare the data\n",
    "data = pd.read_csv('../data/Hotel_Cancelations.csv')\n",
    "most_meaningful_features = ['lead_time','arrival_year','avg_price_per_room','no_of_special_requests','market_segment_type']\n",
    "df = data[most_meaningful_features + ['booking_status']].copy()"
   ]
  },
  {
   "cell_type": "code",
   "execution_count": 5,
   "metadata": {},
   "outputs": [],
   "source": [
    "y = df.booking_status.values\n",
    "\n",
    "dv = DictVectorizer(sparse=False)\n",
    "\n",
    "df_dict = df[most_meaningful_features].to_dict(orient='records')\n",
    "X = dv.fit_transform(df_dict)\n",
    "\n",
    "features = dv.feature_names_\n",
    "d_data = xgb.DMatrix(X, label=y, feature_names=features)"
   ]
  },
  {
   "cell_type": "code",
   "execution_count": 6,
   "metadata": {},
   "outputs": [],
   "source": [
    "xgb_params = {\n",
    "    'eta': 0.1, \n",
    "    'max_depth': 13,\n",
    "    'min_child_weight': 1,\n",
    "    \n",
    "    'objective': 'binary:logistic',\n",
    "    'nthread': 8,\n",
    "    \n",
    "    'seed': 1,\n",
    "    'verbosity': 1,\n",
    "}\n",
    "model = xgb.train(xgb_params, d_data, num_boost_round=100)"
   ]
  },
  {
   "cell_type": "code",
   "execution_count": 7,
   "metadata": {},
   "outputs": [],
   "source": [
    "output_model = '../xgboost_model.pkl'\n",
    "output_vectorizer = '../dv.pkl'\n",
    "\n",
    "# save model an vectorizer\n",
    "with open(output_model, \"wb\") as f:\n",
    "    pickle.dump(model, f)\n",
    "    \n",
    "with open(output_vectorizer, \"wb\") as f:\n",
    "    pickle.dump(dv, f)"
   ]
  },
  {
   "cell_type": "markdown",
   "metadata": {},
   "source": [
    "End of the notebook."
   ]
  }
 ],
 "metadata": {
  "kernelspec": {
   "display_name": "Python 3",
   "language": "python",
   "name": "python3"
  },
  "language_info": {
   "codemirror_mode": {
    "name": "ipython",
    "version": 3
   },
   "file_extension": ".py",
   "mimetype": "text/x-python",
   "name": "python",
   "nbconvert_exporter": "python",
   "pygments_lexer": "ipython3",
   "version": "3.11.6"
  }
 },
 "nbformat": 4,
 "nbformat_minor": 2
}
