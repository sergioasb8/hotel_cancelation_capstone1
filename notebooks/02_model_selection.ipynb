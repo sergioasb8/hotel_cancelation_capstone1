{
 "cells": [
  {
   "cell_type": "markdown",
   "metadata": {},
   "source": [
    "# 1. Info\n",
    "\n",
    "This notebook is to select the best model. The best model will be pick after tuning the parameters of each model.\n",
    "\n",
    "To understand why some features are used and not all, go to the notebook \"01_feature_importance.ipynb\". Before running this notebook, you should run the notebook \"00_eda.ipynb\"."
   ]
  },
  {
   "cell_type": "markdown",
   "metadata": {},
   "source": [
    "# 2. Select the model"
   ]
  },
  {
   "cell_type": "markdown",
   "metadata": {},
   "source": [
    "## 2.1. Import libraries"
   ]
  },
  {
   "cell_type": "code",
   "execution_count": 1,
   "metadata": {},
   "outputs": [],
   "source": [
    "import pandas as pd\n",
    "import numpy as np\n",
    "from sklearn.model_selection import train_test_split\n",
    "from sklearn.linear_model import LogisticRegression\n",
    "from sklearn.tree import DecisionTreeClassifier\n",
    "import xgboost as xgb\n",
    "from sklearn.feature_extraction import DictVectorizer\n",
    "from sklearn.metrics import accuracy_score"
   ]
  },
  {
   "cell_type": "markdown",
   "metadata": {},
   "source": [
    "## 2.2. Read the data"
   ]
  },
  {
   "cell_type": "code",
   "execution_count": 2,
   "metadata": {},
   "outputs": [],
   "source": [
    "data = pd.read_csv('../data/Hotel_Cancelations.csv')"
   ]
  },
  {
   "cell_type": "markdown",
   "metadata": {},
   "source": [
    "## 2.3. Prepare the data"
   ]
  },
  {
   "cell_type": "code",
   "execution_count": 3,
   "metadata": {},
   "outputs": [],
   "source": [
    "most_meaningful_features = ['lead_time','arrival_year','avg_price_per_room','no_of_special_requests','market_segment_type']"
   ]
  },
  {
   "cell_type": "code",
   "execution_count": 4,
   "metadata": {},
   "outputs": [],
   "source": [
    "df = data[most_meaningful_features + ['booking_status']].copy()"
   ]
  },
  {
   "cell_type": "markdown",
   "metadata": {},
   "source": [
    "## 2.4. split the data"
   ]
  },
  {
   "cell_type": "code",
   "execution_count": 5,
   "metadata": {},
   "outputs": [],
   "source": [
    "df_full_train, df_test = train_test_split(data, test_size=0.2, random_state=1)\n",
    "df_train, df_val = train_test_split(df_full_train, test_size=0.25, random_state=1)\n",
    "\n",
    "df_train = df_train.reset_index(drop=True)\n",
    "df_val = df_val.reset_index(drop=True)\n",
    "df_test = df_test.reset_index(drop=True)\n",
    "\n",
    "y_train = df_train.booking_status.values\n",
    "y_val = df_val.booking_status.values\n",
    "y_test = df_test.booking_status.values\n",
    "\n",
    "del df_train['booking_status']\n",
    "del df_val['booking_status']\n",
    "del df_test['booking_status']"
   ]
  },
  {
   "cell_type": "markdown",
   "metadata": {},
   "source": [
    "## 2.5. Vectorize the data"
   ]
  },
  {
   "cell_type": "code",
   "execution_count": 6,
   "metadata": {},
   "outputs": [],
   "source": [
    "dv = DictVectorizer(sparse=False)\n",
    "\n",
    "train_dict = df_train[most_meaningful_features].to_dict(orient='records')\n",
    "X_train = dv.fit_transform(train_dict)\n",
    "\n",
    "val_dict = df_val[most_meaningful_features].to_dict(orient='records')\n",
    "X_val = dv.transform(val_dict)\n",
    "\n",
    "test_dict = df_test[most_meaningful_features].to_dict(orient='records')\n",
    "X_test = dv.transform(test_dict)"
   ]
  },
  {
   "cell_type": "markdown",
   "metadata": {},
   "source": [
    "## 2.6. Train the models"
   ]
  },
  {
   "cell_type": "code",
   "execution_count": 7,
   "metadata": {},
   "outputs": [],
   "source": [
    "def find_best_threshold(model, x_data, y_data):\n",
    "    # make predictions\n",
    "    y_pred = model.predict_proba(x_data)[:, 1]\n",
    "\n",
    "    # test different threshols\n",
    "    thresholds = np.linspace(0, 1, 21)\n",
    "    scores = []\n",
    "    thr = []\n",
    "    for t in thresholds:\n",
    "        score = accuracy_score(y_data, y_pred >= t)\n",
    "        scores.append(score)\n",
    "        thr.append(t)\n",
    "\n",
    "    # return only the best three scores\n",
    "    return pd.DataFrame(data={'threshold':thr,'accuracy_score':scores}). sort_values(by=['accuracy_score'], ascending=False).head(3)"
   ]
  },
  {
   "cell_type": "markdown",
   "metadata": {},
   "source": [
    "### 2.6.1 Logistic Regression"
   ]
  },
  {
   "cell_type": "code",
   "execution_count": null,
   "metadata": {},
   "outputs": [],
   "source": [
    "scores = pd.DataFrame(data={'threshold':[], 'accuracy_score':[], 'C':[], 'solver':[],'data':[]})\n",
    "\n",
    "C_list = [0.0001, 0.001, 0.01, 0.1, 0.5, 1, 5, 10]\n",
    "solver_list = ['newton-cg', 'lbfgs', 'liblinear', 'sag', 'saga']\n",
    "max_iter_list = [100, 300, 500, 1000]\n",
    "for max_iter in max_iter_list:\n",
    "\n",
    "    print(max_iter)\n",
    "    \n",
    "    for c in C_list:\n",
    "        for solver in solver_list:\n",
    "            # create the model with the current parameters\n",
    "            lr_model = LogisticRegression(C=c, solver=solver)\n",
    "            lr_model.fit(X_train, y_train)\n",
    "            \n",
    "            # find the bes threshold in the validation on test data and save it into a single data frame\n",
    "            val_df = find_best_threshold(lr_model, X_val, y_val)\n",
    "            val_df['C'] = c\n",
    "            val_df['solver'] = solver\n",
    "            val_df['max_iter'] = max_iter\n",
    "            val_df['data'] = 'val'\n",
    "\n",
    "            scores = pd.concat([scores, val_df])\n",
    "\n",
    "            test_df = find_best_threshold(lr_model, X_test, y_test)\n",
    "            test_df['C'] = c\n",
    "            test_df['solver'] = solver\n",
    "            test_df['max_iter'] = max_iter\n",
    "            test_df['data'] = 'test'\n",
    "\n",
    "            scores = pd.concat([scores, test_df])     \n",
    "\n",
    "            del val_df\n",
    "            del test_df  "
   ]
  },
  {
   "cell_type": "code",
   "execution_count": 9,
   "metadata": {},
   "outputs": [
    {
     "data": {
      "text/plain": [
       "(960, 6)"
      ]
     },
     "execution_count": 9,
     "metadata": {},
     "output_type": "execute_result"
    }
   ],
   "source": [
    "scores.shape"
   ]
  },
  {
   "cell_type": "code",
   "execution_count": 10,
   "metadata": {},
   "outputs": [
    {
     "data": {
      "text/html": [
       "<div>\n",
       "<style scoped>\n",
       "    .dataframe tbody tr th:only-of-type {\n",
       "        vertical-align: middle;\n",
       "    }\n",
       "\n",
       "    .dataframe tbody tr th {\n",
       "        vertical-align: top;\n",
       "    }\n",
       "\n",
       "    .dataframe thead th {\n",
       "        text-align: right;\n",
       "    }\n",
       "</style>\n",
       "<table border=\"1\" class=\"dataframe\">\n",
       "  <thead>\n",
       "    <tr style=\"text-align: right;\">\n",
       "      <th></th>\n",
       "      <th>threshold</th>\n",
       "      <th>accuracy_score</th>\n",
       "      <th>C</th>\n",
       "      <th>solver</th>\n",
       "      <th>data</th>\n",
       "      <th>max_iter</th>\n",
       "    </tr>\n",
       "  </thead>\n",
       "  <tbody>\n",
       "    <tr>\n",
       "      <th>10</th>\n",
       "      <td>0.5</td>\n",
       "      <td>0.802895</td>\n",
       "      <td>5.0</td>\n",
       "      <td>newton-cg</td>\n",
       "      <td>val</td>\n",
       "      <td>1000.0</td>\n",
       "    </tr>\n",
       "    <tr>\n",
       "      <th>10</th>\n",
       "      <td>0.5</td>\n",
       "      <td>0.802895</td>\n",
       "      <td>5.0</td>\n",
       "      <td>newton-cg</td>\n",
       "      <td>val</td>\n",
       "      <td>100.0</td>\n",
       "    </tr>\n",
       "    <tr>\n",
       "      <th>10</th>\n",
       "      <td>0.5</td>\n",
       "      <td>0.802895</td>\n",
       "      <td>5.0</td>\n",
       "      <td>newton-cg</td>\n",
       "      <td>val</td>\n",
       "      <td>500.0</td>\n",
       "    </tr>\n",
       "    <tr>\n",
       "      <th>10</th>\n",
       "      <td>0.5</td>\n",
       "      <td>0.802895</td>\n",
       "      <td>5.0</td>\n",
       "      <td>newton-cg</td>\n",
       "      <td>val</td>\n",
       "      <td>300.0</td>\n",
       "    </tr>\n",
       "    <tr>\n",
       "      <th>10</th>\n",
       "      <td>0.5</td>\n",
       "      <td>0.802757</td>\n",
       "      <td>0.5</td>\n",
       "      <td>newton-cg</td>\n",
       "      <td>val</td>\n",
       "      <td>1000.0</td>\n",
       "    </tr>\n",
       "  </tbody>\n",
       "</table>\n",
       "</div>"
      ],
      "text/plain": [
       "    threshold  accuracy_score    C     solver data  max_iter\n",
       "10        0.5        0.802895  5.0  newton-cg  val    1000.0\n",
       "10        0.5        0.802895  5.0  newton-cg  val     100.0\n",
       "10        0.5        0.802895  5.0  newton-cg  val     500.0\n",
       "10        0.5        0.802895  5.0  newton-cg  val     300.0\n",
       "10        0.5        0.802757  0.5  newton-cg  val    1000.0"
      ]
     },
     "execution_count": 10,
     "metadata": {},
     "output_type": "execute_result"
    }
   ],
   "source": [
    "scores.query('data == \"val\"').sort_values(by=['accuracy_score'], ascending=False).head()"
   ]
  },
  {
   "cell_type": "code",
   "execution_count": 11,
   "metadata": {},
   "outputs": [
    {
     "data": {
      "text/html": [
       "<div>\n",
       "<style scoped>\n",
       "    .dataframe tbody tr th:only-of-type {\n",
       "        vertical-align: middle;\n",
       "    }\n",
       "\n",
       "    .dataframe tbody tr th {\n",
       "        vertical-align: top;\n",
       "    }\n",
       "\n",
       "    .dataframe thead th {\n",
       "        text-align: right;\n",
       "    }\n",
       "</style>\n",
       "<table border=\"1\" class=\"dataframe\">\n",
       "  <thead>\n",
       "    <tr style=\"text-align: right;\">\n",
       "      <th></th>\n",
       "      <th>threshold</th>\n",
       "      <th>accuracy_score</th>\n",
       "      <th>C</th>\n",
       "      <th>solver</th>\n",
       "      <th>data</th>\n",
       "      <th>max_iter</th>\n",
       "    </tr>\n",
       "  </thead>\n",
       "  <tbody>\n",
       "    <tr>\n",
       "      <th>10</th>\n",
       "      <td>0.5</td>\n",
       "      <td>0.790489</td>\n",
       "      <td>5.0</td>\n",
       "      <td>newton-cg</td>\n",
       "      <td>test</td>\n",
       "      <td>300.0</td>\n",
       "    </tr>\n",
       "    <tr>\n",
       "      <th>10</th>\n",
       "      <td>0.5</td>\n",
       "      <td>0.790489</td>\n",
       "      <td>5.0</td>\n",
       "      <td>newton-cg</td>\n",
       "      <td>test</td>\n",
       "      <td>1000.0</td>\n",
       "    </tr>\n",
       "    <tr>\n",
       "      <th>10</th>\n",
       "      <td>0.5</td>\n",
       "      <td>0.790489</td>\n",
       "      <td>5.0</td>\n",
       "      <td>newton-cg</td>\n",
       "      <td>test</td>\n",
       "      <td>500.0</td>\n",
       "    </tr>\n",
       "    <tr>\n",
       "      <th>10</th>\n",
       "      <td>0.5</td>\n",
       "      <td>0.790489</td>\n",
       "      <td>5.0</td>\n",
       "      <td>newton-cg</td>\n",
       "      <td>test</td>\n",
       "      <td>100.0</td>\n",
       "    </tr>\n",
       "    <tr>\n",
       "      <th>10</th>\n",
       "      <td>0.5</td>\n",
       "      <td>0.790351</td>\n",
       "      <td>10.0</td>\n",
       "      <td>newton-cg</td>\n",
       "      <td>test</td>\n",
       "      <td>500.0</td>\n",
       "    </tr>\n",
       "  </tbody>\n",
       "</table>\n",
       "</div>"
      ],
      "text/plain": [
       "    threshold  accuracy_score     C     solver  data  max_iter\n",
       "10        0.5        0.790489   5.0  newton-cg  test     300.0\n",
       "10        0.5        0.790489   5.0  newton-cg  test    1000.0\n",
       "10        0.5        0.790489   5.0  newton-cg  test     500.0\n",
       "10        0.5        0.790489   5.0  newton-cg  test     100.0\n",
       "10        0.5        0.790351  10.0  newton-cg  test     500.0"
      ]
     },
     "execution_count": 11,
     "metadata": {},
     "output_type": "execute_result"
    }
   ],
   "source": [
    "scores.query('data == \"test\"').sort_values(by=['accuracy_score'], ascending=False).head()"
   ]
  },
  {
   "cell_type": "markdown",
   "metadata": {},
   "source": [
    "The difference between the validation and test data is really low, which could let us think the model is performing consistently. Also, the parameters at the top are being repeated which shows great consistency."
   ]
  },
  {
   "cell_type": "markdown",
   "metadata": {},
   "source": [
    "### 2.6.2. Decision Tree Classifier"
   ]
  },
  {
   "cell_type": "code",
   "execution_count": 12,
   "metadata": {},
   "outputs": [],
   "source": [
    "max_depth_list = [1, 2, 3, 4, 5, 6, 7, 8, 9, 10, 13, 15, 17, 20, 50, None]\n",
    "min_samples_leaf_list = [1, 3, 4, 5, 6, 7, 10, 15, 20, 50, 100]\n",
    "\n",
    "first_run = True\n",
    "\n",
    "for max_depth in max_depth_list:\n",
    "    for min_samples_leaf in min_samples_leaf_list:\n",
    "\n",
    "        # create the model with the current parameters\n",
    "        dt_model = DecisionTreeClassifier(max_depth=max_depth, min_samples_leaf=min_samples_leaf)\n",
    "        dt_model.fit(X_train, y_train)\n",
    "        \n",
    "        # find the bes threshold in the validation on test data and save it into a single data frame\n",
    "        val_df = find_best_threshold(dt_model, X_val, y_val)\n",
    "        val_df['max_depth'] = max_depth\n",
    "        val_df['min_samples_leaf'] = min_samples_leaf\n",
    "        val_df['data'] = 'val'\n",
    "\n",
    "        if first_run:\n",
    "            scores_dt = val_df.copy()\n",
    "            first_run = False\n",
    "        else:\n",
    "            scores_dt = pd.concat([scores_dt, val_df])\n",
    "\n",
    "        test_df = find_best_threshold(dt_model, X_test, y_test)\n",
    "        test_df['max_depth'] = max_depth\n",
    "        test_df['min_samples_leaf'] = min_samples_leaf\n",
    "        test_df['data'] = 'test'\n",
    "\n",
    "        scores_dt = pd.concat([scores_dt, test_df])  \n",
    "\n",
    "        del val_df\n",
    "        del test_df"
   ]
  },
  {
   "cell_type": "code",
   "execution_count": 13,
   "metadata": {},
   "outputs": [
    {
     "data": {
      "text/plain": [
       "(1056, 5)"
      ]
     },
     "execution_count": 13,
     "metadata": {},
     "output_type": "execute_result"
    }
   ],
   "source": [
    "scores_dt.shape"
   ]
  },
  {
   "cell_type": "code",
   "execution_count": 14,
   "metadata": {},
   "outputs": [
    {
     "data": {
      "text/html": [
       "<div>\n",
       "<style scoped>\n",
       "    .dataframe tbody tr th:only-of-type {\n",
       "        vertical-align: middle;\n",
       "    }\n",
       "\n",
       "    .dataframe tbody tr th {\n",
       "        vertical-align: top;\n",
       "    }\n",
       "\n",
       "    .dataframe thead th {\n",
       "        text-align: right;\n",
       "    }\n",
       "</style>\n",
       "<table border=\"1\" class=\"dataframe\">\n",
       "  <thead>\n",
       "    <tr style=\"text-align: right;\">\n",
       "      <th></th>\n",
       "      <th>threshold</th>\n",
       "      <th>accuracy_score</th>\n",
       "      <th>max_depth</th>\n",
       "      <th>min_samples_leaf</th>\n",
       "      <th>data</th>\n",
       "    </tr>\n",
       "  </thead>\n",
       "  <tbody>\n",
       "    <tr>\n",
       "      <th>12</th>\n",
       "      <td>0.60</td>\n",
       "      <td>0.859683</td>\n",
       "      <td>20</td>\n",
       "      <td>4</td>\n",
       "      <td>val</td>\n",
       "    </tr>\n",
       "    <tr>\n",
       "      <th>9</th>\n",
       "      <td>0.45</td>\n",
       "      <td>0.858580</td>\n",
       "      <td>17</td>\n",
       "      <td>5</td>\n",
       "      <td>val</td>\n",
       "    </tr>\n",
       "    <tr>\n",
       "      <th>10</th>\n",
       "      <td>0.50</td>\n",
       "      <td>0.858442</td>\n",
       "      <td>13</td>\n",
       "      <td>5</td>\n",
       "      <td>val</td>\n",
       "    </tr>\n",
       "    <tr>\n",
       "      <th>12</th>\n",
       "      <td>0.60</td>\n",
       "      <td>0.858305</td>\n",
       "      <td>None</td>\n",
       "      <td>6</td>\n",
       "      <td>val</td>\n",
       "    </tr>\n",
       "    <tr>\n",
       "      <th>12</th>\n",
       "      <td>0.60</td>\n",
       "      <td>0.858305</td>\n",
       "      <td>13</td>\n",
       "      <td>4</td>\n",
       "      <td>val</td>\n",
       "    </tr>\n",
       "  </tbody>\n",
       "</table>\n",
       "</div>"
      ],
      "text/plain": [
       "    threshold  accuracy_score max_depth  min_samples_leaf data\n",
       "12       0.60        0.859683        20                 4  val\n",
       "9        0.45        0.858580        17                 5  val\n",
       "10       0.50        0.858442        13                 5  val\n",
       "12       0.60        0.858305      None                 6  val\n",
       "12       0.60        0.858305        13                 4  val"
      ]
     },
     "execution_count": 14,
     "metadata": {},
     "output_type": "execute_result"
    }
   ],
   "source": [
    "scores_dt.query('data == \"val\"').sort_values(by=['accuracy_score'], ascending=False).head()"
   ]
  },
  {
   "cell_type": "code",
   "execution_count": 15,
   "metadata": {},
   "outputs": [
    {
     "data": {
      "text/html": [
       "<div>\n",
       "<style scoped>\n",
       "    .dataframe tbody tr th:only-of-type {\n",
       "        vertical-align: middle;\n",
       "    }\n",
       "\n",
       "    .dataframe tbody tr th {\n",
       "        vertical-align: top;\n",
       "    }\n",
       "\n",
       "    .dataframe thead th {\n",
       "        text-align: right;\n",
       "    }\n",
       "</style>\n",
       "<table border=\"1\" class=\"dataframe\">\n",
       "  <thead>\n",
       "    <tr style=\"text-align: right;\">\n",
       "      <th></th>\n",
       "      <th>threshold</th>\n",
       "      <th>accuracy_score</th>\n",
       "      <th>max_depth</th>\n",
       "      <th>min_samples_leaf</th>\n",
       "      <th>data</th>\n",
       "    </tr>\n",
       "  </thead>\n",
       "  <tbody>\n",
       "    <tr>\n",
       "      <th>10</th>\n",
       "      <td>0.50</td>\n",
       "      <td>0.861199</td>\n",
       "      <td>13</td>\n",
       "      <td>5</td>\n",
       "      <td>test</td>\n",
       "    </tr>\n",
       "    <tr>\n",
       "      <th>11</th>\n",
       "      <td>0.55</td>\n",
       "      <td>0.861199</td>\n",
       "      <td>13</td>\n",
       "      <td>1</td>\n",
       "      <td>test</td>\n",
       "    </tr>\n",
       "    <tr>\n",
       "      <th>11</th>\n",
       "      <td>0.55</td>\n",
       "      <td>0.861061</td>\n",
       "      <td>20</td>\n",
       "      <td>1</td>\n",
       "      <td>test</td>\n",
       "    </tr>\n",
       "    <tr>\n",
       "      <th>12</th>\n",
       "      <td>0.60</td>\n",
       "      <td>0.860924</td>\n",
       "      <td>13</td>\n",
       "      <td>7</td>\n",
       "      <td>test</td>\n",
       "    </tr>\n",
       "    <tr>\n",
       "      <th>10</th>\n",
       "      <td>0.50</td>\n",
       "      <td>0.860924</td>\n",
       "      <td>13</td>\n",
       "      <td>3</td>\n",
       "      <td>test</td>\n",
       "    </tr>\n",
       "  </tbody>\n",
       "</table>\n",
       "</div>"
      ],
      "text/plain": [
       "    threshold  accuracy_score max_depth  min_samples_leaf  data\n",
       "10       0.50        0.861199        13                 5  test\n",
       "11       0.55        0.861199        13                 1  test\n",
       "11       0.55        0.861061        20                 1  test\n",
       "12       0.60        0.860924        13                 7  test\n",
       "10       0.50        0.860924        13                 3  test"
      ]
     },
     "execution_count": 15,
     "metadata": {},
     "output_type": "execute_result"
    }
   ],
   "source": [
    "scores_dt.query('data == \"test\"').sort_values(by=['accuracy_score'], ascending=False).head()"
   ]
  },
  {
   "cell_type": "markdown",
   "metadata": {},
   "source": [
    "The test data performed better than the validation data, but the key is that both scores were close which means consistency in the model performance. When looking for consistency there are two sets of parameters that repeat inside the top 5 so the best one will be picked."
   ]
  },
  {
   "cell_type": "markdown",
   "metadata": {},
   "source": [
    "### 2.6.4. Xgbost"
   ]
  },
  {
   "cell_type": "code",
   "execution_count": 16,
   "metadata": {},
   "outputs": [],
   "source": [
    "def model_accuracy(model, x_data, y_data):\n",
    "    y_pred = model.predict(x_data)\n",
    "    thresholds = np.linspace(0, 1, 21)\n",
    "    scores = []\n",
    "    thr = []\n",
    "    for t in thresholds:\n",
    "        score = accuracy_score(y_data, y_pred >= t)\n",
    "        scores.append(score)\n",
    "        thr.append(t)\n",
    "    return pd.DataFrame(data={'threshold':thr,'accuracy_score':scores}).sort_values(by=['accuracy_score'], ascending=False).head(5)"
   ]
  },
  {
   "cell_type": "code",
   "execution_count": 17,
   "metadata": {},
   "outputs": [],
   "source": [
    "features = dv.feature_names_\n",
    "dtrain = xgb.DMatrix(X_train, label=y_train, feature_names=features)\n",
    "dval = xgb.DMatrix(X_val, label=y_val, feature_names=features)\n",
    "dtest = xgb.DMatrix(X_test, label=y_test, feature_names=features)"
   ]
  },
  {
   "cell_type": "code",
   "execution_count": 18,
   "metadata": {},
   "outputs": [],
   "source": [
    "historical_accuracy_df_val = pd.DataFrame({'':[]})\n",
    "\n",
    "eta_list = np.linspace(0.1, 1.5, 15)\n",
    "min_child_list = np.linspace(1, 10, 10)\n",
    "max_depth = [3, 4, 5, 6, 7, 8, 9, 10, 15]\n",
    "\n",
    "for eta in eta_list:\n",
    "    for min_child in min_child_list:\n",
    "        for max_depth in max_depth_list:\n",
    "            xgb_params = {\n",
    "                'eta': eta, \n",
    "                'max_depth': max_depth,\n",
    "                'min_child_weight': min_child,\n",
    "                \n",
    "                'objective': 'binary:logistic',\n",
    "                'nthread': 8,\n",
    "                \n",
    "                'seed': 1,\n",
    "                'verbosity': 1,\n",
    "            }\n",
    "            model = xgb.train(xgb_params, dtrain, num_boost_round=100)\n",
    "\n",
    "            accuracy_df = model_accuracy(model, dval, y_val) \n",
    "            accuracy_df['eta'] = eta\n",
    "            accuracy_df['min_child'] = min_child\n",
    "            accuracy_df['max_depth'] = max_depth\n",
    "            accuracy_df['data'] = 'val'\n",
    "            historical_accuracy_df_val = accuracy_df if historical_accuracy_df_val.shape[0] == 0 else pd.concat([historical_accuracy_df_val,accuracy_df])"
   ]
  },
  {
   "cell_type": "code",
   "execution_count": 33,
   "metadata": {},
   "outputs": [
    {
     "data": {
      "text/html": [
       "<div>\n",
       "<style scoped>\n",
       "    .dataframe tbody tr th:only-of-type {\n",
       "        vertical-align: middle;\n",
       "    }\n",
       "\n",
       "    .dataframe tbody tr th {\n",
       "        vertical-align: top;\n",
       "    }\n",
       "\n",
       "    .dataframe thead th {\n",
       "        text-align: right;\n",
       "    }\n",
       "</style>\n",
       "<table border=\"1\" class=\"dataframe\">\n",
       "  <thead>\n",
       "    <tr style=\"text-align: right;\">\n",
       "      <th></th>\n",
       "      <th>threshold</th>\n",
       "      <th>accuracy_score</th>\n",
       "      <th>eta</th>\n",
       "      <th>min_child</th>\n",
       "      <th>max_depth</th>\n",
       "      <th>data</th>\n",
       "    </tr>\n",
       "  </thead>\n",
       "  <tbody>\n",
       "    <tr>\n",
       "      <th>11</th>\n",
       "      <td>0.55</td>\n",
       "      <td>0.876775</td>\n",
       "      <td>0.1</td>\n",
       "      <td>1.0</td>\n",
       "      <td>9</td>\n",
       "      <td>val</td>\n",
       "    </tr>\n",
       "    <tr>\n",
       "      <th>11</th>\n",
       "      <td>0.55</td>\n",
       "      <td>0.875810</td>\n",
       "      <td>0.2</td>\n",
       "      <td>2.0</td>\n",
       "      <td>8</td>\n",
       "      <td>val</td>\n",
       "    </tr>\n",
       "    <tr>\n",
       "      <th>9</th>\n",
       "      <td>0.45</td>\n",
       "      <td>0.875672</td>\n",
       "      <td>0.1</td>\n",
       "      <td>1.0</td>\n",
       "      <td>9</td>\n",
       "      <td>val</td>\n",
       "    </tr>\n",
       "  </tbody>\n",
       "</table>\n",
       "</div>"
      ],
      "text/plain": [
       "    threshold  accuracy_score  eta  min_child max_depth data\n",
       "11       0.55        0.876775  0.1        1.0         9  val\n",
       "11       0.55        0.875810  0.2        2.0         8  val\n",
       "9        0.45        0.875672  0.1        1.0         9  val"
      ]
     },
     "execution_count": 33,
     "metadata": {},
     "output_type": "execute_result"
    }
   ],
   "source": [
    "historical_accuracy_df_val.sort_values(by=['accuracy_score'], ascending=False).head(3)"
   ]
  },
  {
   "cell_type": "code",
   "execution_count": 20,
   "metadata": {},
   "outputs": [],
   "source": [
    "historical_accuracy_df = pd.DataFrame({'':[]})\n",
    "\n",
    "eta_list = np.linspace(0.1, 1.5, 15)\n",
    "min_child_list = np.linspace(1, 10, 10)\n",
    "max_depth = [3, 4, 5, 6, 7, 8, 9, 10, 15]\n",
    "\n",
    "for eta in eta_list:\n",
    "    for min_child in min_child_list:\n",
    "        for max_depth in max_depth_list:\n",
    "            xgb_params = {\n",
    "                'eta': eta, \n",
    "                'max_depth': max_depth,\n",
    "                'min_child_weight': min_child,\n",
    "                \n",
    "                'objective': 'binary:logistic',\n",
    "                'nthread': 8,\n",
    "                \n",
    "                'seed': 1,\n",
    "                'verbosity': 1,\n",
    "            }\n",
    "            model = xgb.train(xgb_params, dtrain, num_boost_round=100)\n",
    "\n",
    "            accuracy_df = model_accuracy(model, dtest, y_test) \n",
    "            accuracy_df['eta'] = eta\n",
    "            accuracy_df['min_child'] = min_child\n",
    "            accuracy_df['max_depth'] = max_depth\n",
    "            accuracy_df['data'] = 'test'\n",
    "            historical_accuracy_df = accuracy_df if historical_accuracy_df.shape[0] == 0 else pd.concat([historical_accuracy_df,accuracy_df])"
   ]
  },
  {
   "cell_type": "code",
   "execution_count": 32,
   "metadata": {},
   "outputs": [
    {
     "data": {
      "text/html": [
       "<div>\n",
       "<style scoped>\n",
       "    .dataframe tbody tr th:only-of-type {\n",
       "        vertical-align: middle;\n",
       "    }\n",
       "\n",
       "    .dataframe tbody tr th {\n",
       "        vertical-align: top;\n",
       "    }\n",
       "\n",
       "    .dataframe thead th {\n",
       "        text-align: right;\n",
       "    }\n",
       "</style>\n",
       "<table border=\"1\" class=\"dataframe\">\n",
       "  <thead>\n",
       "    <tr style=\"text-align: right;\">\n",
       "      <th></th>\n",
       "      <th>threshold</th>\n",
       "      <th>accuracy_score</th>\n",
       "      <th>eta</th>\n",
       "      <th>min_child</th>\n",
       "      <th>max_depth</th>\n",
       "      <th>data</th>\n",
       "    </tr>\n",
       "  </thead>\n",
       "  <tbody>\n",
       "    <tr>\n",
       "      <th>10</th>\n",
       "      <td>0.50</td>\n",
       "      <td>0.876223</td>\n",
       "      <td>0.3</td>\n",
       "      <td>2.0</td>\n",
       "      <td>9</td>\n",
       "      <td>test</td>\n",
       "    </tr>\n",
       "    <tr>\n",
       "      <th>10</th>\n",
       "      <td>0.50</td>\n",
       "      <td>0.876223</td>\n",
       "      <td>0.1</td>\n",
       "      <td>1.0</td>\n",
       "      <td>13</td>\n",
       "      <td>test</td>\n",
       "    </tr>\n",
       "    <tr>\n",
       "      <th>11</th>\n",
       "      <td>0.55</td>\n",
       "      <td>0.875948</td>\n",
       "      <td>0.1</td>\n",
       "      <td>1.0</td>\n",
       "      <td>13</td>\n",
       "      <td>test</td>\n",
       "    </tr>\n",
       "  </tbody>\n",
       "</table>\n",
       "</div>"
      ],
      "text/plain": [
       "    threshold  accuracy_score  eta  min_child max_depth  data\n",
       "10       0.50        0.876223  0.3        2.0         9  test\n",
       "10       0.50        0.876223  0.1        1.0        13  test\n",
       "11       0.55        0.875948  0.1        1.0        13  test"
      ]
     },
     "execution_count": 32,
     "metadata": {},
     "output_type": "execute_result"
    }
   ],
   "source": [
    "historical_accuracy_df.sort_values(by=['accuracy_score'], ascending=False).head(3)"
   ]
  },
  {
   "cell_type": "code",
   "execution_count": 23,
   "metadata": {},
   "outputs": [],
   "source": [
    "final = pd.concat([historical_accuracy_df, historical_accuracy_df_val])"
   ]
  },
  {
   "cell_type": "code",
   "execution_count": 35,
   "metadata": {},
   "outputs": [
    {
     "data": {
      "text/html": [
       "<div>\n",
       "<style scoped>\n",
       "    .dataframe tbody tr th:only-of-type {\n",
       "        vertical-align: middle;\n",
       "    }\n",
       "\n",
       "    .dataframe tbody tr th {\n",
       "        vertical-align: top;\n",
       "    }\n",
       "\n",
       "    .dataframe thead th {\n",
       "        text-align: right;\n",
       "    }\n",
       "</style>\n",
       "<table border=\"1\" class=\"dataframe\">\n",
       "  <thead>\n",
       "    <tr style=\"text-align: right;\">\n",
       "      <th></th>\n",
       "      <th>threshold</th>\n",
       "      <th>eta</th>\n",
       "      <th>min_child</th>\n",
       "      <th>max_depth</th>\n",
       "      <th>accuracy_score</th>\n",
       "    </tr>\n",
       "  </thead>\n",
       "  <tbody>\n",
       "    <tr>\n",
       "      <th>2489</th>\n",
       "      <td>0.50</td>\n",
       "      <td>0.1</td>\n",
       "      <td>1.0</td>\n",
       "      <td>13</td>\n",
       "      <td>0.875121</td>\n",
       "    </tr>\n",
       "    <tr>\n",
       "      <th>4477</th>\n",
       "      <td>0.55</td>\n",
       "      <td>0.1</td>\n",
       "      <td>1.0</td>\n",
       "      <td>9</td>\n",
       "      <td>0.874983</td>\n",
       "    </tr>\n",
       "    <tr>\n",
       "      <th>4479</th>\n",
       "      <td>0.55</td>\n",
       "      <td>0.1</td>\n",
       "      <td>1.0</td>\n",
       "      <td>13</td>\n",
       "      <td>0.874776</td>\n",
       "    </tr>\n",
       "  </tbody>\n",
       "</table>\n",
       "</div>"
      ],
      "text/plain": [
       "      threshold  eta  min_child  max_depth  accuracy_score\n",
       "2489       0.50  0.1        1.0         13        0.875121\n",
       "4477       0.55  0.1        1.0          9        0.874983\n",
       "4479       0.55  0.1        1.0         13        0.874776"
      ]
     },
     "execution_count": 35,
     "metadata": {},
     "output_type": "execute_result"
    }
   ],
   "source": [
    "final.groupby(['threshold','eta','min_child','max_depth'])['accuracy_score'].mean().reset_index().sort_values(by=['accuracy_score'], ascending=False).head(3)"
   ]
  },
  {
   "cell_type": "markdown",
   "metadata": {},
   "source": [
    "The Xgboost is the model that showed the best performance across both, validation and test data.\n",
    "\n",
    "The best parameter combination for the xgboost is:\n",
    "* eta = 0.1\n",
    "* min_child = 1.0 \n",
    "* max_depth = 13\n",
    "* threshold = 0.50"
   ]
  },
  {
   "cell_type": "markdown",
   "metadata": {},
   "source": [
    "End of the notebook"
   ]
  }
 ],
 "metadata": {
  "kernelspec": {
   "display_name": "Python 3",
   "language": "python",
   "name": "python3"
  },
  "language_info": {
   "codemirror_mode": {
    "name": "ipython",
    "version": 3
   },
   "file_extension": ".py",
   "mimetype": "text/x-python",
   "name": "python",
   "nbconvert_exporter": "python",
   "pygments_lexer": "ipython3",
   "version": "3.11.6"
  }
 },
 "nbformat": 4,
 "nbformat_minor": 2
}
